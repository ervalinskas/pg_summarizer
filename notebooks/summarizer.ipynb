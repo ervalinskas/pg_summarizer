{
 "cells": [
  {
   "cell_type": "code",
   "execution_count": 98,
   "metadata": {},
   "outputs": [],
   "source": [
    "import requests\n",
    "import re\n",
    "from bs4 import BeautifulSoup\n",
    "\n",
    "url = \"https://paulgraham.com/{}\"\n",
    "\n",
    "\n",
    "def scrape_essay_urls(url):\n",
    "    page = requests.get(url.format(\"articles.html\"))\n",
    "    soup = BeautifulSoup(page.content, \"html.parser\")\n",
    "    links = soup.findAll(\"a\")\n",
    "\n",
    "    essay_urls = {\n",
    "        url.format(link[\"href\"])\n",
    "        for link in links\n",
    "        if (link[\"href\"].endswith(\".html\") or \"https://\" in link[\"href\"])\n",
    "        and link[\"href\"] not in {\"index.html\", \"rss.html\"}\n",
    "    }\n",
    "    return essay_urls\n",
    "\n",
    "\n",
    "def scrape_essays_texts(urls):\n",
    "    essay_data = []\n",
    "    for essay_url in list(urls)[0:3]:\n",
    "        page = requests.get(essay_url)\n",
    "        soup = BeautifulSoup(page.content, \"html.parser\")\n",
    "        raw_text = soup.get_text(separator=\"\\n\", strip=True)\n",
    "        raw_text_without_notes = raw_text.split(\"Notes\")[0]\n",
    "        clean_text = re.sub(r\"\\[\\n\\d+\\n\\]\", \"\", raw_text_without_notes)\n",
    "        data = {\n",
    "            \"title\": clean_text.split(\"\\n\")[0],\n",
    "            \"date\": clean_text.split(\"\\n\")[1],\n",
    "            \"essay_text\": \"\\n\".join(clean_text.split(\"\\n\")[2:]),\n",
    "        }\n",
    "        essay_data.append(data)\n",
    "    return essay_data"
   ]
  },
  {
   "cell_type": "code",
   "execution_count": 99,
   "metadata": {},
   "outputs": [],
   "source": [
    "essay_urls = scrape_essay_urls(url)\n",
    "essay_texts = scrape_essays_texts(essay_urls)"
   ]
  },
  {
   "cell_type": "code",
   "execution_count": null,
   "metadata": {},
   "outputs": [],
   "source": []
  }
 ],
 "metadata": {
  "kernelspec": {
   "display_name": ".venv",
   "language": "python",
   "name": "python3"
  },
  "language_info": {
   "codemirror_mode": {
    "name": "ipython",
    "version": 3
   },
   "file_extension": ".py",
   "mimetype": "text/x-python",
   "name": "python",
   "nbconvert_exporter": "python",
   "pygments_lexer": "ipython3",
   "version": "3.12.2"
  }
 },
 "nbformat": 4,
 "nbformat_minor": 2
}
